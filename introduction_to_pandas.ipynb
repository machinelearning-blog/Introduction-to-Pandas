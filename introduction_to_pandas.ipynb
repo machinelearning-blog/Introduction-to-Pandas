{
  "cells": [
    {
      "metadata": {
        "_uuid": "79d8fa343e5b0b43bd342efa42b30025c2057741",
        "_cell_guid": "0e95d0cb-3064-4dd6-b110-1590ec214caa"
      },
      "cell_type": "markdown",
      "source": "## **Introduction**\nThis Kernel covers the basic pandas commands, every ML engineer or Data Scientist should know. Therefore it is intended for beginners. By using these commands we will transform and clean the Rossman Store Sales Dataset. Some transformation I will do in this Kernel doesn't really makes sense out of a machine learning persepective, I just do them for illustrational purposes of pandas. I will use the steps described in the Youtube Tutiorial: \"Introduction To Data Analytics With Pandas\" from Quentin Caudron, but with the Rossmann Data set. "
    },
    {
      "metadata": {
        "_uuid": "c4b505bc88cdb7521461b8334aa3cef69728f73b",
        "_cell_guid": "ce3de614-aeff-4539-9948-9122e67efd90"
      },
      "cell_type": "markdown",
      "source": "----------------------------------------------------------------------------------------------------------------------------------------------------------------------------\n"
    },
    {
      "metadata": {
        "_uuid": "43b811718fa71157ee9c74f843f63fd4e8f04a3f",
        "collapsed": true,
        "_cell_guid": "17a056b4-98f0-4192-9a57-a4c072eb288e",
        "trusted": false
      },
      "cell_type": "code",
      "source": "import pandas as pd\nimport numpy as np\nimport matplotlib",
      "execution_count": null,
      "outputs": []
    },
    {
      "metadata": {
        "_uuid": "062e2d8b46b0f945a4ab09e67dedb442526259e6",
        "_cell_guid": "6c745296-c8b0-4488-a024-41a7c485037e",
        "trusted": false,
        "collapsed": true
      },
      "cell_type": "code",
      "source": "train_df = pd.read_csv(\"../input/train.csv\")",
      "execution_count": null,
      "outputs": []
    },
    {
      "metadata": {
        "_uuid": "5621f6fde374b4208d0deda3b0cb84df670259bd",
        "_cell_guid": "8a682f5d-4c4c-4c89-bbd1-c63caad4c085"
      },
      "cell_type": "markdown",
      "source": "----------------------------------------------------------------------------------------------------------------------------------------------------------------------------\n"
    },
    {
      "metadata": {
        "_uuid": "335bf65960756bfcd040c8ed2ed231effd2f8b9f",
        "_cell_guid": "8d0d65b9-8880-4d46-b336-a5a50872782f"
      },
      "cell_type": "markdown",
      "source": ""
    },
    {
      "metadata": {
        "_uuid": "165ba81e1b1ef5b8186243867c3958c97e6828e3",
        "_cell_guid": "97a5b0a5-7499-4377-89ae-8cb039792d3e"
      },
      "cell_type": "markdown",
      "source": "# **Data Exploration**\n----------------------------------------------------------------------------------------------------------------------------------------------------------------------------\n"
    },
    {
      "metadata": {
        "_uuid": "c6e70bf247c548c9fb4e9a99ece4468a462c8f16",
        "_cell_guid": "472297ae-310a-4d29-8a36-7ab7dc9d3fa5",
        "trusted": false,
        "collapsed": true
      },
      "cell_type": "code",
      "source": "# .head() returns the first 5 rows of a dataset\ntrain_df.head()",
      "execution_count": null,
      "outputs": []
    },
    {
      "metadata": {
        "_uuid": "e7e366326d7564df1d106caf24ade986497a7e6c",
        "_cell_guid": "a97fed19-3399-45b1-b749-bff07dfed3c2",
        "trusted": false,
        "collapsed": true
      },
      "cell_type": "code",
      "source": "# .tail() returns the last 5 rows of a dataset\ntrain_df.tail()",
      "execution_count": null,
      "outputs": []
    },
    {
      "metadata": {
        "_uuid": "73be4188b29c533e5b0736f9286388f528d9ed5d",
        "_cell_guid": "5ab84b5e-a381-4e0b-8fe7-6e20cc945531",
        "trusted": false,
        "collapsed": true
      },
      "cell_type": "code",
      "source": "# .info() shows generell information about the datafram like total entrie number, \n# total number of features, feature types etc.\ntrain_df.info()",
      "execution_count": null,
      "outputs": []
    },
    {
      "metadata": {
        "_uuid": "930b37135164e1ef5f02ff54ae76d2dc73a9852b",
        "_cell_guid": "f0d6d85c-08cd-48f3-a64b-8635512bf4ff",
        "trusted": false,
        "collapsed": true
      },
      "cell_type": "code",
      "source": "# .iloc[] returns a specific row of the dataframe. Just put in the index you wish to see.\n# there is also .loc[] which is for selection by label, but also used with a boolean array\ntrain_df.iloc[2]",
      "execution_count": null,
      "outputs": []
    },
    {
      "metadata": {
        "_uuid": "665eea0df4e4ef247e2be087f1167cce3c3bc420",
        "_cell_guid": "76b90322-e691-4561-b415-4c1c6d513573",
        "trusted": false,
        "collapsed": true
      },
      "cell_type": "code",
      "source": "# .describe() shows you several statistical stats about your dataset.\ntrain_df.describe()",
      "execution_count": null,
      "outputs": []
    },
    {
      "metadata": {
        "_uuid": "505a1662862b3bfbea05c607896c87d1999a15c2",
        "_cell_guid": "a81dab5f-1732-49bb-870a-dcd2eaaf3bf1"
      },
      "cell_type": "markdown",
      "source": ""
    },
    {
      "metadata": {
        "_uuid": "7d1310df6f735b44e5dd8592ba1aadad30bfd170",
        "_cell_guid": "3be91fe6-7e4b-4e42-bfa9-a0fd8f75c9cb"
      },
      "cell_type": "markdown",
      "source": "## **Missing Data ?**"
    },
    {
      "metadata": {
        "_uuid": "5c819fc6482575206d84d1b23d54d248cba31ac5",
        "_cell_guid": "73877acc-4a31-4200-ab5d-70d1e850fd3d"
      },
      "cell_type": "markdown",
      "source": "Let's look if you we have some missing data in our dataset. "
    },
    {
      "metadata": {
        "_uuid": "195846d78641dfbf4cbc7b0bd77e0261a9342905",
        "_cell_guid": "8d6c3bb9-8269-445b-89f4-f09ad41431d1",
        "trusted": false,
        "collapsed": true
      },
      "cell_type": "code",
      "source": "# .isnull() detects missing values.\n# .sum() sums values up \n# .max()  returns the maximum of the values in the object\n# By using these 3 methods together we can easily see how many missing values our data contains.\ntrain_df.isnull().sum().max() ",
      "execution_count": null,
      "outputs": []
    },
    {
      "metadata": {
        "_uuid": "d5fae37032e0dbbb067fcbab6b85bc604a42b360",
        "_cell_guid": "a3573993-f354-4618-9ba4-7a913ad9e4e0"
      },
      "cell_type": "markdown",
      "source": ""
    },
    {
      "metadata": {
        "_uuid": "2a2c5b09f784023568e792d9ff41c9be94ae5343",
        "_cell_guid": "d1065a54-9d69-40bb-babf-c2d3cc6404e8"
      },
      "cell_type": "markdown",
      "source": "## **Changing pandas dtypes**"
    },
    {
      "metadata": {
        "_uuid": "4843479d5192799783d0bc2c07245f512e6dd264",
        "_cell_guid": "c87ae40b-d51d-43f0-899a-412f7c567f07",
        "trusted": false,
        "collapsed": true
      },
      "cell_type": "code",
      "source": "# dtypes shows you all features of the dataset and at what type panadas stored them\ntrain_df.dtypes",
      "execution_count": null,
      "outputs": []
    },
    {
      "metadata": {
        "_uuid": "b13a71fa81c9b4891a3f20f36044cdf7918755c1",
        "_cell_guid": "268fab0a-114e-42a5-8216-0fd749c430f8",
        "trusted": false,
        "collapsed": true
      },
      "cell_type": "code",
      "source": "print(train_df.Date[0])\n# type() returns the type of the input\nprint(type(train_df.Date[0]))",
      "execution_count": null,
      "outputs": []
    },
    {
      "metadata": {
        "_uuid": "7698b65440c7a8209a19ddfb3bffc61018655a9a",
        "_cell_guid": "ad24fb05-1e52-4b1e-956a-c649601991f3"
      },
      "cell_type": "markdown",
      "source": "The Date feature is stored as a string. We will convert it into a pandas Datetime object, so that it is easier to work with."
    },
    {
      "metadata": {
        "_uuid": "56e1f45d5cb73018237539178c7110fe23829e07",
        "_cell_guid": "37cc7853-c315-405f-8d43-06686f24c56c",
        "trusted": false,
        "collapsed": true
      },
      "cell_type": "code",
      "source": "# pd.to_datetime() transform it into a datetime object\ntrain_df.Date = pd.to_datetime(train_df.Date)\n# confirm the types\ntrain_df.dtypes",
      "execution_count": null,
      "outputs": []
    },
    {
      "metadata": {
        "_uuid": "7176eaa66fcad49ef7ad42332fe2d177083362af",
        "_cell_guid": "b566e2c7-c2ed-4715-96a2-3f618993b32d"
      },
      "cell_type": "markdown",
      "source": ""
    },
    {
      "metadata": {
        "_uuid": "f587375f027eb81b61dcf2435a81bae14ee7a76b",
        "_cell_guid": "7190b05e-87ae-4619-a6e4-c97600c7ac13"
      },
      "cell_type": "markdown",
      "source": "## **Converting Values**"
    },
    {
      "metadata": {
        "_uuid": "d54b06dcf1b2ff822e9156153623098bf09a8b6f",
        "_cell_guid": "9647bb11-2cda-41f2-ae7e-6fee215e6ec3",
        "trusted": false,
        "collapsed": true
      },
      "cell_type": "code",
      "source": "# train_df.StateHoliday selects the StateHoliday feature\n# value_counts() returns how many different values a feature has and counts how often they occur.\ntrain_df.StateHoliday.value_counts()",
      "execution_count": null,
      "outputs": []
    },
    {
      "metadata": {
        "_uuid": "062698727b56cf4de0df47829ea83eb6bee9720f",
        "_cell_guid": "f4d6f06d-511b-4c7e-ac1d-f8d852e78a2b"
      },
      "cell_type": "markdown",
      "source": "As you can see the StateHoliday feature contains not only numbers. Because of that we will convert the letters into numeric values."
    },
    {
      "metadata": {
        "_uuid": "e3ac55a2bd0d2b99395d1ca027b82e2f18bf650d",
        "collapsed": true,
        "_cell_guid": "67e641f3-2e22-4a60-b359-ef6f64d42304",
        "trusted": false
      },
      "cell_type": "code",
      "source": "# create a mapping dictionary\nmapping_dictionary = {\"StateHoliday\": {\"a\": 1, \"b\": 2, \"c\": 3}}",
      "execution_count": null,
      "outputs": []
    },
    {
      "metadata": {
        "_uuid": "bdcb3e512e8389a92293008ac40da88d0d25c9b2",
        "collapsed": true,
        "_cell_guid": "fd01011d-6340-4658-80eb-09a41d121615",
        "trusted": false
      },
      "cell_type": "code",
      "source": "# .replace() replaces the values. \ntrain_df.replace(mapping_dictionary, inplace = True)",
      "execution_count": null,
      "outputs": []
    },
    {
      "metadata": {
        "_uuid": "83e92c42a539a1e2386bd8bee805ee6d0e430c42",
        "_cell_guid": "679e6513-1e84-41ed-856a-89865025d27c",
        "trusted": false,
        "collapsed": true
      },
      "cell_type": "code",
      "source": "# Let's see if it worked:\ntrain_df.StateHoliday.value_counts()",
      "execution_count": null,
      "outputs": []
    },
    {
      "metadata": {
        "_uuid": "f66e46346487c0ac913fc269e4d213e57379fd62",
        "_cell_guid": "f5cefb0d-5e7d-4b33-b8ab-0b8c346963c9",
        "trusted": false,
        "collapsed": true
      },
      "cell_type": "code",
      "source": "# Let's check the dtype again.\ntrain_df.dtypes",
      "execution_count": null,
      "outputs": []
    },
    {
      "metadata": {
        "_uuid": "4f322230b69e9b1d6f4aac82647fad025a69404e",
        "_cell_guid": "7f2d0600-02a3-4378-8c25-40fdb31e3e14"
      },
      "cell_type": "markdown",
      "source": "We succesfully converted the features values but pandas has the StateHoliday feature still stored as an object dtype. We will convert it into an int64."
    },
    {
      "metadata": {
        "_uuid": "e9052522b4b182c00dd19500e6825dd6e81f2849",
        "collapsed": true,
        "_cell_guid": "4df968cb-e2aa-401d-9b0a-0e18874d4a3f",
        "trusted": false
      },
      "cell_type": "code",
      "source": "# astype() transform the dtype, at this example into an integer (int64)\ntrain_df.StateHoliday = train_df.StateHoliday.astype(int)",
      "execution_count": null,
      "outputs": []
    },
    {
      "metadata": {
        "_uuid": "a8a46e317410e5a591480f5603ec586d6d07e0d7",
        "_cell_guid": "d92ebb10-9b4f-44c9-b8d7-154e0f8143bd",
        "trusted": false,
        "collapsed": true
      },
      "cell_type": "code",
      "source": "train_df.dtypes",
      "execution_count": null,
      "outputs": []
    },
    {
      "metadata": {
        "_uuid": "4cf03b4c00ae86a26c0fc06e3e411ca2297f0bab",
        "_cell_guid": "092672fa-2fcf-4bb2-9d3a-b89e11614476",
        "trusted": false,
        "collapsed": true
      },
      "cell_type": "code",
      "source": "train_df.head()",
      "execution_count": null,
      "outputs": []
    },
    {
      "metadata": {
        "_uuid": "0ffe1c99a53a1fbfc5d770e61446d6e7e3469209",
        "_cell_guid": "a214af2f-84c2-4e1d-898e-7edaf24f6fa3"
      },
      "cell_type": "markdown",
      "source": ""
    },
    {
      "metadata": {
        "_uuid": "9cd7390090015d8328eb485178414096b9cf7121",
        "_cell_guid": "84c0242f-1eb1-4d8b-b246-266d39e725af"
      },
      "cell_type": "markdown",
      "source": "## **Creating new features and using the Datetime object**"
    },
    {
      "metadata": {
        "_uuid": "dfa0f50f2e24cf120dbc924edf36b6474c376622",
        "_cell_guid": "01707143-5b99-40bf-bd95-3c5a71611955"
      },
      "cell_type": "markdown",
      "source": "The DayOfWeek feature stores the day as a number, which is good to put it into an algorithm but out of illustrational purposes we will create a new feature that contains the actual weekday as a string. We will delete the DayofWeek feature because it didn't works inline with the Datetime object, which is way easier to work with."
    },
    {
      "metadata": {
        "_uuid": "27f31fc58c5d6cde4fe060db093a15b3f74ab0e3",
        "collapsed": true,
        "_cell_guid": "1e1c411b-755f-41f8-be42-52ffa99375d3",
        "trusted": false
      },
      "cell_type": "code",
      "source": "# .drop() to drop the DayOfWeek feature\ntrain_df = train_df.drop(\"DayOfWeek\", axis=1)",
      "execution_count": null,
      "outputs": []
    },
    {
      "metadata": {
        "_uuid": "059555cb94dbf22e36989a2f456d3bf1863046fd",
        "collapsed": true,
        "_cell_guid": "aabc45b6-6a15-457d-a80c-3aab2ab46ffa",
        "trusted": false
      },
      "cell_type": "code",
      "source": "# Create a series for the weekdays for each entry using dt.weekday. \n# Pandas automatically finds the right day to a specific data because we previously \n# transformed the Date feature into a Datetime object.\nweekdays = train_df.Date.dt.weekday\n# assign() assigns the new weekdays feature to our dataframe.\ntrain_df = train_df.assign(weekdays = weekdays)",
      "execution_count": null,
      "outputs": []
    },
    {
      "metadata": {
        "_uuid": "a1446a7aa982bd93a4989fcc362f319593dd6a71",
        "_cell_guid": "edbdabf0-45bc-4d3e-a111-e584deb214bd",
        "trusted": false,
        "collapsed": true
      },
      "cell_type": "code",
      "source": "train_df.head()",
      "execution_count": null,
      "outputs": []
    },
    {
      "metadata": {
        "_uuid": "e747b8949890a84648a679e34f0549ce5e2a5b14",
        "_cell_guid": "ca2b3526-eda6-424b-9bf3-6ba9f6a0734b"
      },
      "cell_type": "markdown",
      "source": "We now have a new feature that stores the day of week, called: weekdays. Now we will transform the numbers it contains into actual weekdays."
    },
    {
      "metadata": {
        "_uuid": "c0986e2ad63bb93d0d0922053e5176af067ad296",
        "collapsed": true,
        "_cell_guid": "a9c8a33d-0d8b-4cdd-adf6-1748a5763d1a",
        "trusted": false
      },
      "cell_type": "code",
      "source": "# creating a list of the days\nweekday_names = [\"Monday\", \"Tuesday\", \"Wednesday\", \"Thursday\", \"Friday\", \"Saturday\", \"Sunday\"]\n# for-loop to assign these days\nweekday_dict = {key: weekday_names[key] for key in range(7)}\n\n# fucntion to actually replace the numbers with the days\ndef day_of_week(idx):\n    return weekday_dict[idx]\n# use apply() to apply our function to the weekdays column\ntrain_df.weekdays =  train_df.weekdays.apply(day_of_week)",
      "execution_count": null,
      "outputs": []
    },
    {
      "metadata": {
        "_uuid": "875c355d1f1beb922a105f2d220941d039228371",
        "_cell_guid": "ce5ca3c8-afbc-4fa6-9feb-a2ea5cf0cb11",
        "trusted": false,
        "collapsed": true
      },
      "cell_type": "code",
      "source": "train_df.weekdays.value_counts()",
      "execution_count": null,
      "outputs": []
    },
    {
      "metadata": {
        "_uuid": "add761342bb7939826bb964f041af021944753eb",
        "_cell_guid": "2db62853-62d1-46dd-8db0-d00b44ac5671"
      },
      "cell_type": "markdown",
      "source": ""
    },
    {
      "metadata": {
        "_uuid": "3bdb6fcf485bb01652eabd835eafafed008809e5",
        "_cell_guid": "0b2111f9-6812-41cf-a502-600eea84cb21"
      },
      "cell_type": "markdown",
      "source": "## **Grouping data by a Feature**\nLet's group these weekdays."
    },
    {
      "metadata": {
        "_uuid": "997f66ab0fc502035fb23be0c05a35ccc9b601dc",
        "_cell_guid": "ffc7ba60-bba0-441a-adcd-da5c5b03d0da",
        "scrolled": true,
        "trusted": false,
        "collapsed": true
      },
      "cell_type": "code",
      "source": "# groupby() groups our weekdays and  count() counts the rows in each group\nweekday_counts = train_df.groupby(\"weekdays\").count()\n\n# We can reorder this dataframe by our weekday_names list\nweekday_counts = weekday_counts.loc[weekday_names]\n\nweekday_counts",
      "execution_count": null,
      "outputs": []
    },
    {
      "metadata": {
        "_uuid": "78ae9f36bb676a9af6d83e0f8218aeb689f3c4d0",
        "_cell_guid": "32eb1869-4ba5-4a9b-8647-6e3d28937c4f",
        "trusted": false,
        "collapsed": true
      },
      "cell_type": "code",
      "source": "train_df.head()",
      "execution_count": null,
      "outputs": []
    },
    {
      "metadata": {
        "_uuid": "e726da9a1cdd83f4a9c71b64569a83f56f1c34dd",
        "_cell_guid": "557fbe94-7087-4365-ab2d-01f23fc59411"
      },
      "cell_type": "markdown",
      "source": ""
    },
    {
      "metadata": {
        "_uuid": "4d1a887f473329c8c6b1ef6499ccf3fdec74bb60",
        "_cell_guid": "1ba8d587-4db9-4cda-ae77-4e6416a321bf"
      },
      "cell_type": "markdown",
      "source": "## **Changing the index**"
    },
    {
      "metadata": {
        "_uuid": "e79cc81a8733b81d1cf8c77c3aecdaf9ede600ad",
        "collapsed": true,
        "_cell_guid": "c5b9945b-6fc7-4b4c-bac6-020aecd9fb30",
        "trusted": false
      },
      "cell_type": "code",
      "source": "# .index to set the index equal to the Date feature\ntrain_df.index = train_df.Date\n# Let's drop the \"old\" Date Feature because we no longer need it since it's values are \n# now the index.\n# .drop() to drop the feature\ntrain_df.drop([\"Date\"], axis = 1, inplace = True)",
      "execution_count": null,
      "outputs": []
    },
    {
      "metadata": {
        "_uuid": "3226de66ab295ca4f81f1473722cd07e77acc668",
        "_cell_guid": "f1cdc436-cbc0-4330-8aeb-687213b5e123",
        "trusted": false,
        "collapsed": true
      },
      "cell_type": "code",
      "source": "train_df.head()",
      "execution_count": null,
      "outputs": []
    },
    {
      "metadata": {
        "_uuid": "5250f2d9be5bb385ec8f1df33e7179e0a70dc40c",
        "_cell_guid": "0b409143-9101-4b4c-b9d5-c25017099f47"
      },
      "cell_type": "markdown",
      "source": "Instead of 0, 1, 2, 3, 4... we now have the actual Dates as index on the left of the dataframe. "
    },
    {
      "metadata": {
        "_uuid": "44f9a507e2a951c30caf0fcd0bb4cea0d66bbe63",
        "_cell_guid": "dcc959f6-fee0-4c6f-9bd8-1104157b21d3"
      },
      "cell_type": "markdown",
      "source": "----------------------------------------------------------------------------------------------------------------------------------------------------------------------------\n"
    },
    {
      "metadata": {
        "_uuid": "b673325cc2cd810a06f28bdc3f0efffeeead5aca",
        "_cell_guid": "9bee979a-585b-46c9-adc1-bc5cec7957fa"
      },
      "cell_type": "markdown",
      "source": ""
    }
  ],
  "metadata": {
    "language_info": {
      "version": "3.6.4",
      "pygments_lexer": "ipython3",
      "codemirror_mode": {
        "version": 3,
        "name": "ipython"
      },
      "mimetype": "text/x-python",
      "name": "python",
      "file_extension": ".py",
      "nbconvert_exporter": "python"
    },
    "kernelspec": {
      "display_name": "Python 3",
      "language": "python",
      "name": "python3"
    }
  },
  "nbformat": 4,
  "nbformat_minor": 1
}